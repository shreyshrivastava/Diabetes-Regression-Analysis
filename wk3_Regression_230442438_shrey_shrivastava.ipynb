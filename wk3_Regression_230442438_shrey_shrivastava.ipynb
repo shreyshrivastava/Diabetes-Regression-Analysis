{
 "cells": [
  {
   "cell_type": "markdown",
   "metadata": {
    "id": "8NRMjCyyZdMy"
   },
   "source": [
    "## 0. Introduction\n",
    "\n",
    "The aim of this lab is to get familiar with **regression problems**, the concepts of **under/over-fitting**, and **regularization**.\n",
    "\n",
    "\n",
    "1.   This lab is the first course-work activity **Assignment 1 part 1: Regression (10%)**\n",
    "2. The Assignment is due on **Friday, 27th October, 11:59pm**\n",
    "2.   A report answering the <font color = 'red'>**questions in</font><font color = \"maroon\"> red**</font> should be submitted on QMplus along with the completed Notebook.\n",
    "3. The report should be a separate file in **pdf format** (so **NOT** *doc, docx, notebook* etc.), well identified with your name, student number, assignment number (for instance, Assignment 1), module code.\n",
    "4. Make sure that **any figures or code** you comment on, are **included in the report**.\n",
    "5. No other means of submission other than the appropriate QM+ link is acceptable at any time (so NO email attachments, etc.)\n",
    "6. **PLAGIARISM** <ins>is an irreversible non-negotiable failure in the course</ins> (if in doubt of what constitutes plagiarism, ask!).\n",
    "\n",
    "\n",
    "For this lab we will use the [diabetes](https://www4.stat.ncsu.edu/~boos/var.select/diabetes.html) dataset."
   ]
  },
  {
   "cell_type": "code",
   "execution_count": 1,
   "metadata": {
    "id": "lkLnfbLLwxxS"
   },
   "outputs": [],
   "source": [
    "import torch\n",
    "from torch import nn\n",
    "from sklearn import model_selection\n",
    "import pandas as pd\n",
    "import matplotlib.pyplot as plt\n",
    "import seaborn as sn\n",
    "from IPython import display\n",
    "\n",
    "import typing\n",
    "%matplotlib inline"
   ]
  },
  {
   "cell_type": "code",
   "execution_count": 2,
   "metadata": {
    "colab": {
     "base_uri": "https://localhost:8080/",
     "height": 1000
    },
    "id": "LJJVj3d3b43I",
    "outputId": "fec9219d-5a34-4b44-f2c4-1ce30bbf29b6"
   },
   "outputs": [],
   "source": [
    "diabetes_db = pd.read_csv('https://www4.stat.ncsu.edu/~boos/var.select/diabetes.tab.txt', sep='\\t', header=0)\n",
    "# sn.pairplot(diabetes_db)"
   ]
  },
  {
   "cell_type": "code",
   "execution_count": 3,
   "metadata": {
    "colab": {
     "base_uri": "https://localhost:8080/",
     "height": 363
    },
    "id": "imFNxOVrf36P",
    "outputId": "b9b7e96e-7428-4181-c9f3-784f203499d2"
   },
   "outputs": [
    {
     "data": {
      "text/html": [
       "<div>\n",
       "<style scoped>\n",
       "    .dataframe tbody tr th:only-of-type {\n",
       "        vertical-align: middle;\n",
       "    }\n",
       "\n",
       "    .dataframe tbody tr th {\n",
       "        vertical-align: top;\n",
       "    }\n",
       "\n",
       "    .dataframe thead th {\n",
       "        text-align: right;\n",
       "    }\n",
       "</style>\n",
       "<table border=\"1\" class=\"dataframe\">\n",
       "  <thead>\n",
       "    <tr style=\"text-align: right;\">\n",
       "      <th></th>\n",
       "      <th>AGE</th>\n",
       "      <th>SEX</th>\n",
       "      <th>BMI</th>\n",
       "      <th>BP</th>\n",
       "      <th>S1</th>\n",
       "      <th>S2</th>\n",
       "      <th>S3</th>\n",
       "      <th>S4</th>\n",
       "      <th>S5</th>\n",
       "      <th>S6</th>\n",
       "      <th>Y</th>\n",
       "    </tr>\n",
       "  </thead>\n",
       "  <tbody>\n",
       "    <tr>\n",
       "      <th>0</th>\n",
       "      <td>59</td>\n",
       "      <td>2</td>\n",
       "      <td>32.1</td>\n",
       "      <td>101.0</td>\n",
       "      <td>157</td>\n",
       "      <td>93.2</td>\n",
       "      <td>38.0</td>\n",
       "      <td>4.00</td>\n",
       "      <td>4.8598</td>\n",
       "      <td>87</td>\n",
       "      <td>151</td>\n",
       "    </tr>\n",
       "    <tr>\n",
       "      <th>1</th>\n",
       "      <td>48</td>\n",
       "      <td>1</td>\n",
       "      <td>21.6</td>\n",
       "      <td>87.0</td>\n",
       "      <td>183</td>\n",
       "      <td>103.2</td>\n",
       "      <td>70.0</td>\n",
       "      <td>3.00</td>\n",
       "      <td>3.8918</td>\n",
       "      <td>69</td>\n",
       "      <td>75</td>\n",
       "    </tr>\n",
       "    <tr>\n",
       "      <th>2</th>\n",
       "      <td>72</td>\n",
       "      <td>2</td>\n",
       "      <td>30.5</td>\n",
       "      <td>93.0</td>\n",
       "      <td>156</td>\n",
       "      <td>93.6</td>\n",
       "      <td>41.0</td>\n",
       "      <td>4.00</td>\n",
       "      <td>4.6728</td>\n",
       "      <td>85</td>\n",
       "      <td>141</td>\n",
       "    </tr>\n",
       "    <tr>\n",
       "      <th>3</th>\n",
       "      <td>24</td>\n",
       "      <td>1</td>\n",
       "      <td>25.3</td>\n",
       "      <td>84.0</td>\n",
       "      <td>198</td>\n",
       "      <td>131.4</td>\n",
       "      <td>40.0</td>\n",
       "      <td>5.00</td>\n",
       "      <td>4.8903</td>\n",
       "      <td>89</td>\n",
       "      <td>206</td>\n",
       "    </tr>\n",
       "    <tr>\n",
       "      <th>4</th>\n",
       "      <td>50</td>\n",
       "      <td>1</td>\n",
       "      <td>23.0</td>\n",
       "      <td>101.0</td>\n",
       "      <td>192</td>\n",
       "      <td>125.4</td>\n",
       "      <td>52.0</td>\n",
       "      <td>4.00</td>\n",
       "      <td>4.2905</td>\n",
       "      <td>80</td>\n",
       "      <td>135</td>\n",
       "    </tr>\n",
       "    <tr>\n",
       "      <th>5</th>\n",
       "      <td>23</td>\n",
       "      <td>1</td>\n",
       "      <td>22.6</td>\n",
       "      <td>89.0</td>\n",
       "      <td>139</td>\n",
       "      <td>64.8</td>\n",
       "      <td>61.0</td>\n",
       "      <td>2.00</td>\n",
       "      <td>4.1897</td>\n",
       "      <td>68</td>\n",
       "      <td>97</td>\n",
       "    </tr>\n",
       "    <tr>\n",
       "      <th>6</th>\n",
       "      <td>36</td>\n",
       "      <td>2</td>\n",
       "      <td>22.0</td>\n",
       "      <td>90.0</td>\n",
       "      <td>160</td>\n",
       "      <td>99.6</td>\n",
       "      <td>50.0</td>\n",
       "      <td>3.00</td>\n",
       "      <td>3.9512</td>\n",
       "      <td>82</td>\n",
       "      <td>138</td>\n",
       "    </tr>\n",
       "    <tr>\n",
       "      <th>7</th>\n",
       "      <td>66</td>\n",
       "      <td>2</td>\n",
       "      <td>26.2</td>\n",
       "      <td>114.0</td>\n",
       "      <td>255</td>\n",
       "      <td>185.0</td>\n",
       "      <td>56.0</td>\n",
       "      <td>4.55</td>\n",
       "      <td>4.2485</td>\n",
       "      <td>92</td>\n",
       "      <td>63</td>\n",
       "    </tr>\n",
       "    <tr>\n",
       "      <th>8</th>\n",
       "      <td>60</td>\n",
       "      <td>2</td>\n",
       "      <td>32.1</td>\n",
       "      <td>83.0</td>\n",
       "      <td>179</td>\n",
       "      <td>119.4</td>\n",
       "      <td>42.0</td>\n",
       "      <td>4.00</td>\n",
       "      <td>4.4773</td>\n",
       "      <td>94</td>\n",
       "      <td>110</td>\n",
       "    </tr>\n",
       "    <tr>\n",
       "      <th>9</th>\n",
       "      <td>29</td>\n",
       "      <td>1</td>\n",
       "      <td>30.0</td>\n",
       "      <td>85.0</td>\n",
       "      <td>180</td>\n",
       "      <td>93.4</td>\n",
       "      <td>43.0</td>\n",
       "      <td>4.00</td>\n",
       "      <td>5.3845</td>\n",
       "      <td>88</td>\n",
       "      <td>310</td>\n",
       "    </tr>\n",
       "  </tbody>\n",
       "</table>\n",
       "</div>"
      ],
      "text/plain": [
       "   AGE  SEX   BMI     BP   S1     S2    S3    S4      S5  S6    Y\n",
       "0   59    2  32.1  101.0  157   93.2  38.0  4.00  4.8598  87  151\n",
       "1   48    1  21.6   87.0  183  103.2  70.0  3.00  3.8918  69   75\n",
       "2   72    2  30.5   93.0  156   93.6  41.0  4.00  4.6728  85  141\n",
       "3   24    1  25.3   84.0  198  131.4  40.0  5.00  4.8903  89  206\n",
       "4   50    1  23.0  101.0  192  125.4  52.0  4.00  4.2905  80  135\n",
       "5   23    1  22.6   89.0  139   64.8  61.0  2.00  4.1897  68   97\n",
       "6   36    2  22.0   90.0  160   99.6  50.0  3.00  3.9512  82  138\n",
       "7   66    2  26.2  114.0  255  185.0  56.0  4.55  4.2485  92   63\n",
       "8   60    2  32.1   83.0  179  119.4  42.0  4.00  4.4773  94  110\n",
       "9   29    1  30.0   85.0  180   93.4  43.0  4.00  5.3845  88  310"
      ]
     },
     "execution_count": 3,
     "metadata": {},
     "output_type": "execute_result"
    }
   ],
   "source": [
    "diabetes_db.head(10)"
   ]
  },
  {
   "cell_type": "markdown",
   "metadata": {
    "id": "LGjbgZxNdrLH"
   },
   "source": [
    "We first split the data into test and training sets. For consistency and to allow for meaningful comparison the same splits are maintained in the remainder of the lab."
   ]
  },
  {
   "cell_type": "code",
   "execution_count": 4,
   "metadata": {
    "id": "Lad3ihXjd-Ev"
   },
   "outputs": [],
   "source": [
    "X_train, X_test, y_train, y_test = model_selection.train_test_split(\n",
    "    diabetes_db.loc[:, diabetes_db.columns != 'Y'],\n",
    "    diabetes_db['Y'],\n",
    "    test_size=0.2,\n",
    "    random_state=42\n",
    "    )\n",
    "x_train = torch.from_numpy(X_train.values).float()\n",
    "x_test = torch.from_numpy(X_test.values).float()\n",
    "\n",
    "y_train = torch.from_numpy(y_train.values).float()\n",
    "y_train = y_train.reshape(-1, 1)\n",
    "\n",
    "y_test = torch.from_numpy(y_test.values).float()\n",
    "y_test = y_test.reshape(-1, 1)\n"
   ]
  },
  {
   "cell_type": "markdown",
   "metadata": {
    "id": "hLLITe4POndx"
   },
   "source": [
    "We can see that all the independent variables are on different scales. This can affect gradient descent, we therefore need to normalize all features to zero mean, and unit standard deviation. The normalized value $z_i$ of $x_i$ is obtained through $z_i = \\frac{x_i - μ}{σ}$ where $μ$ is the mean and $σ$ is the standard deviation of $X$ and $x_i, μ, σ ∈ \\mathbb{R}^D$.\n",
    "\n",
    "**Q1.** Complete the method and normalize `x_train, x_test` [2 marks]"
   ]
  },
  {
   "cell_type": "code",
   "execution_count": 5,
   "metadata": {
    "id": "z3E-8C1USNFP"
   },
   "outputs": [
    {
     "name": "stdout",
     "output_type": "stream",
     "text": [
      "x_train_normalized  tensor([[ 1.4962,  1.0599,  0.2196,  ...,  0.7100,  0.5467, -0.0614],\n",
      "        [-0.2285,  1.0599, -0.4188,  ...,  1.4822, -0.0197,  0.3667],\n",
      "        [ 0.0851, -0.9408,  1.0175,  ..., -0.0621,  0.3308, -0.3182],\n",
      "        ...,\n",
      "        [ 0.6339, -0.9408, -0.4644,  ..., -0.8343, -0.2534, -0.0614],\n",
      "        [-0.3069, -0.9408, -0.5328,  ..., -0.0621, -0.8295, -0.8319],\n",
      "        [-2.0317, -0.9408,  0.5616,  ..., -0.8343, -0.1329, -0.0614]])\n",
      "x_test_normalized  tensor([[ 9.4745e-01, -9.4084e-01, -1.6799e-01, -3.5442e-01,  2.6279e+00,\n",
      "          2.6454e+00,  4.2888e-01,  7.1003e-01,  6.5267e-01, -1.4698e-01],\n",
      "        [ 1.9666e+00, -9.4084e-01,  7.4396e-01,  4.2693e-01, -5.1071e-01,\n",
      "         -3.3281e-01,  3.7578e-02, -8.3427e-01, -4.9620e-01, -4.8944e-01],\n",
      "        [ 1.3394e+00,  1.0599e+00, -1.2239e-01, -2.8339e-01,  2.1671e+00,\n",
      "          1.0412e+00,  1.2115e+00, -6.2122e-02,  1.7411e+00, -4.0382e-01],\n",
      "        [ 2.0450e+00, -9.4084e-01,  1.0631e+00,  1.6110e+00,  1.1594e+00,\n",
      "          7.8484e-01, -1.6059e+00,  2.9493e+00,  2.0371e+00,  1.2229e+00],\n",
      "        [ 2.4186e-01,  1.0599e+00, -4.6437e-01, -7.0292e-02,  8.1382e-01,\n",
      "          1.1333e+00, -1.1894e-01,  7.1003e-01, -1.3294e-01, -2.3259e-01],\n",
      "        [ 1.6346e-01, -9.4084e-01, -5.5556e-01, -5.6752e-01,  2.0808e+00,\n",
      "          1.9945e+00,  1.5245e+00, -6.2122e-02, -4.7276e-01,  1.0987e-01],\n",
      "        [-2.2853e-01,  1.0599e+00,  3.5710e+00,  2.8487e-01,  6.4106e-01,\n",
      "          7.2567e-01, -4.3198e-01,  7.1003e-01,  6.7821e-01,  6.2356e-01],\n",
      "        [-5.4213e-01,  1.0599e+00,  9.2635e-01,  4.2693e-01,  2.3111e+00,\n",
      "          1.8828e+00,  3.7578e-02,  7.1003e-01,  1.5258e+00,  1.2229e+00],\n",
      "        [-2.0317e+00,  1.0599e+00, -1.9463e+00, -1.2068e+00, -5.1071e-01,\n",
      "         -6.2209e-01, -1.1894e-01, -6.2122e-02,  4.7752e-01,  2.4254e-02],\n",
      "        [-1.3261e+00,  1.0599e+00,  2.8799e-01, -4.2545e-01,  7.8503e-01,\n",
      "          1.0281e+00,  4.2888e-01, -6.2122e-02, -6.6831e-01, -6.1362e-02],\n",
      "        [-9.3412e-01, -9.4084e-01, -7.3795e-01, -4.9649e-01,  9.8659e-01,\n",
      "          8.9004e-01,  1.2115e+00, -5.2541e-01, -5.6806e-01, -8.3190e-01],\n",
      "        [ 8.5062e-02, -9.4084e-01, -1.2623e+00, -4.9649e-01, -1.4033e+00,\n",
      "         -1.4176e+00, -1.1363e+00, -6.2122e-02,  8.7147e-01, -1.7737e+00],\n",
      "        [-1.9533e+00, -9.4084e-01, -1.3307e+00, -5.6752e-01, -1.1442e+00,\n",
      "         -1.1283e+00,  8.9844e-01, -1.6064e+00, -1.9895e+00, -1.1744e+00],\n",
      "        [ 3.9866e-01,  1.0599e+00,  2.6519e-01,  1.2793e+00,  3.2432e-01,\n",
      "          4.4297e-01, -9.7980e-01,  7.1003e-01,  9.5019e-01,  1.8222e+00],\n",
      "        [-3.0693e-01,  1.0599e+00, -1.2167e+00, -7.0292e-02, -5.6830e-01,\n",
      "         -5.9579e-01,  4.2888e-01, -8.3427e-01, -3.8204e-01,  8.8041e-01],\n",
      "        [-7.7733e-01,  1.0599e+00,  8.2798e-02, -1.4132e-01, -1.5185e+00,\n",
      "         -1.2993e+00, -1.1894e-01, -8.3427e-01, -9.7516e-01,  6.2356e-01],\n",
      "        [ 8.6905e-01,  1.0599e+00,  1.4735e+00,  1.4281e-01,  8.1382e-01,\n",
      "          3.5093e-01, -3.5372e-01,  7.1003e-01,  1.5094e+00,  1.7366e+00],\n",
      "        [ 1.3394e+00,  1.0599e+00,  1.8383e+00,  1.4214e+00,  4.3950e-01,\n",
      "          8.0457e-01, -1.0581e+00,  1.4822e+00,  5.8711e-01,  1.4797e+00],\n",
      "        [-6.9893e-01,  1.0599e+00,  5.6157e-01,  1.4214e+00, -2.6415e+00,\n",
      "         -2.2262e+00, -1.1363e+00, -1.0119e+00, -6.6831e-01,  2.8110e-01],\n",
      "        [ 1.0258e+00,  1.0599e+00,  1.1999e+00,  1.4214e+00,  2.9553e-01,\n",
      "          4.4955e-01, -4.3198e-01,  7.1003e-01,  4.3464e-01,  5.3795e-01],\n",
      "        [-1.5613e+00, -9.4084e-01,  7.8956e-01, -7.0958e-01, -2.5156e-01,\n",
      "         -7.0755e-01, -5.1024e-01, -6.2122e-02,  1.3908e+00, -3.1821e-01],\n",
      "        [ 1.0258e+00, -9.4084e-01, -9.4314e-01, -1.1358e+00,  9.5779e-01,\n",
      "          1.0675e+00,  7.4192e-01, -6.2122e-02, -5.6806e-01, -1.3456e+00],\n",
      "        [-9.3412e-01, -9.4084e-01, -1.0799e+00, -7.8062e-01, -1.3638e-01,\n",
      "         -4.5772e-01,  1.8376e+00, -8.3427e-01, -1.4156e+00,  1.0987e-01],\n",
      "        [ 1.2610e+00,  1.0599e+00,  4.4758e-01,  9.9519e-01,  3.5312e-01,\n",
      "          2.6546e-01, -2.7546e-01, -6.2122e-02,  8.0133e-01,  3.6672e-01],\n",
      "        [-1.3261e+00, -9.4084e-01,  9.0355e-01, -4.2545e-01, -1.9397e-01,\n",
      "         -1.4215e-01,  5.0714e-01, -8.3427e-01, -5.9264e-01, -2.3259e-01],\n",
      "        [ 8.6905e-01,  1.0599e+00,  2.6519e-01,  8.5313e-01, -6.2589e-01,\n",
      "         -1.0662e-02, -9.0154e-01, -6.2122e-02, -7.2053e-01,  2.8110e-01],\n",
      "        [ 6.3385e-01,  1.0599e+00,  1.2227e+00,  1.1373e+00, -4.5312e-01,\n",
      "          4.1933e-02, -6.6676e-01, -6.2122e-02, -5.4385e-01, -4.0382e-01],\n",
      "        [ 7.9065e-01,  1.0599e+00, -4.1877e-01,  1.3504e+00, -1.0578e+00,\n",
      "         -3.3281e-01, -1.6059e+00,  7.1003e-01, -2.7417e-01, -3.1821e-01],\n",
      "        [-1.2477e+00, -9.4084e-01, -1.6043e+00, -1.0647e+00, -5.1071e-01,\n",
      "         -9.7053e-01,  1.9941e+00, -1.6064e+00, -1.3045e+00, -1.0031e+00],\n",
      "        [ 3.2026e-01,  1.0599e+00, -4.8717e-01, -2.1236e-01,  7.2744e-01,\n",
      "          1.0215e+00,  3.7578e-02, -6.2122e-02, -2.9532e-01,  4.5233e-01],\n",
      "        [ 5.5546e-01, -9.4084e-01,  1.9295e+00, -1.1123e+00,  1.8035e-01,\n",
      "          8.5059e-01, -5.8850e-01,  4.3205e-01, -1.0365e+00,  3.6672e-01],\n",
      "        [-2.2669e+00, -9.4084e-01, -8.2915e-01, -5.6752e-01,  6.5174e-02,\n",
      "          4.3640e-01,  2.7236e-01, -6.2122e-02, -1.4541e+00, -5.7506e-01],\n",
      "        [-7.1736e-02,  1.0599e+00,  2.6519e-01, -1.5620e+00,  6.5174e-02,\n",
      "          1.4712e-01, -2.7546e-01, -6.2122e-02,  3.7594e-01,  2.4254e-02],\n",
      "        [ 5.5546e-01,  1.0599e+00, -1.6799e-01,  5.6900e-01, -3.3794e-01,\n",
      "         -1.7237e-02, -1.2146e+00,  7.1003e-01,  5.8711e-01,  6.2356e-01],\n",
      "        [ 2.0450e+00, -9.4084e-01,  8.1236e-01, -1.2068e+00,  9.5779e-01,\n",
      "          1.2911e+00, -4.3198e-01,  7.4864e-01,  2.3700e-01,  4.5233e-01],\n",
      "        [-1.7181e+00,  1.0599e+00,  1.6103e+00,  1.0662e+00,  1.6489e+00,\n",
      "          1.3700e+00,  5.8540e-01, -6.2122e-02,  8.2497e-01, -2.3259e-01],\n",
      "        [-2.2853e-01,  1.0599e+00, -6.9236e-01, -5.6752e-01, -2.2277e-01,\n",
      "         -4.0877e-03, -4.3198e-01, -6.2122e-02,  1.0435e-01,  5.3795e-01],\n",
      "        [-7.1736e-02,  1.0599e+00, -7.3795e-01, -4.0201e-01,  6.6985e-01,\n",
      "          9.1633e-01, -2.7546e-01,  4.0889e-01,  1.8840e-01,  5.3795e-01],\n",
      "        [ 1.4178e+00,  1.0599e+00, -6.9236e-01,  7.1773e-02,  5.2588e-01,\n",
      "          7.6512e-01, -5.8850e-01,  7.1003e-01,  4.6323e-01,  1.6509e+00],\n",
      "        [ 3.9866e-01, -9.4084e-01, -1.2623e+00, -1.2068e+00, -2.1208e-02,\n",
      "         -2.4734e-01,  1.6028e+00, -8.3427e-01, -1.3045e+00, -1.6024e+00],\n",
      "        [-7.1736e-02, -9.4084e-01, -1.5131e+00, -2.8339e-01,  7.5861e-03,\n",
      "         -1.7502e-01,  1.5245e+00, -8.3427e-01, -1.3409e+00,  7.9479e-01],\n",
      "        [ 1.4178e+00,  1.0599e+00, -6.6956e-01,  1.1607e+00,  7.5861e-03,\n",
      "         -3.1309e-01,  1.6028e+00, -1.0659e+00, -8.2955e-01,  1.0987e-01],\n",
      "        [ 8.6905e-01,  1.0599e+00, -5.0997e-01,  5.6900e-01, -1.3745e+00,\n",
      "         -9.3108e-01, -1.2928e+00, -6.2122e-02,  3.4399e-02, -1.1744e+00],\n",
      "        [ 2.3586e+00,  1.0599e+00, -7.3795e-01, -4.9649e-01, -7.8796e-02,\n",
      "          4.4297e-01, -1.2928e+00,  1.4822e+00,  3.0008e-01,  8.8041e-01],\n",
      "        [ 8.6905e-01, -9.4084e-01, -9.8874e-01,  6.8762e-01,  9.2900e-01,\n",
      "         -3.1309e-01,  8.2018e-01, -3.0921e-01,  1.8542e+00,  1.0987e-01],\n",
      "        [-3.8533e-01, -9.4084e-01, -7.8355e-01, -5.6752e-01,  6.9865e-01,\n",
      "          3.7723e-01,  2.1506e+00, -8.3427e-01, -1.4934e+00, -1.6881e+00],\n",
      "        [-2.1101e+00, -9.4084e-01, -8.0635e-01, -1.5620e+00, -7.9865e-01,\n",
      "         -5.6292e-01,  3.5062e-01, -8.3427e-01, -1.5746e+00, -6.1362e-02],\n",
      "        [ 6.3385e-01, -9.4084e-01, -1.1027e+00, -7.0292e-02, -9.1383e-01,\n",
      "         -1.8712e+00,  2.5419e+00, -1.6064e+00, -4.0415e-01,  2.4254e-02],\n",
      "        [-4.6373e-01, -9.4084e-01, -1.8323e+00, -5.6752e-01, -7.4106e-01,\n",
      "         -7.0098e-01,  8.9844e-01, -1.0891e+00, -1.7478e+00, -1.0031e+00],\n",
      "        [-1.3261e+00, -9.4084e-01, -8.3961e-03, -6.3855e-01, -1.3638e-01,\n",
      "         -4.3800e-01,  2.7236e-01, -6.2122e-02,  6.3971e-01, -1.1744e+00],\n",
      "        [ 8.5062e-02, -9.4084e-01,  1.1999e+00, -9.2268e-01, -1.5185e+00,\n",
      "         -1.5031e+00,  4.2888e-01, -1.6064e+00, -1.1002e+00, -5.7506e-01],\n",
      "        [-2.1101e+00, -9.4084e-01, -1.5131e+00, -1.4199e+00, -3.9553e-01,\n",
      "         -2.0790e-01,  3.5062e-01, -8.3427e-01, -1.0057e+00, -1.6881e+00],\n",
      "        [ 5.5546e-01,  1.0599e+00,  3.3358e-01, -7.0958e-01, -1.3638e-01,\n",
      "          9.8208e-01, -1.3711e+00,  1.4822e+00, -2.0417e+00, -1.2600e+00],\n",
      "        [ 3.9866e-01, -9.4084e-01, -8.9754e-01, -3.5442e-01, -1.6518e-01,\n",
      "         -3.5253e-01,  1.1332e+00, -8.3427e-01, -6.6831e-01,  2.4254e-02],\n",
      "        [-1.1693e+00,  1.0599e+00, -4.1877e-01,  1.6345e+00,  1.8792e+00,\n",
      "          2.2772e+00, -8.2328e-01,  2.2543e+00,  7.2853e-01, -9.1752e-01],\n",
      "        [-6.2053e-01, -9.4084e-01,  1.3367e+00, -7.0292e-02, -5.1071e-01,\n",
      "         -3.4596e-01,  5.0714e-01, -8.3427e-01, -1.3045e+00, -1.3456e+00],\n",
      "        [-5.4213e-01, -9.4084e-01, -1.0115e+00, -7.0958e-01,  6.9865e-01,\n",
      "          7.7827e-01,  8.2018e-01, -6.2122e-02, -7.2053e-01,  1.9548e-01],\n",
      "        [ 7.9065e-01,  1.0599e+00,  1.2683e+00,  4.2693e-01, -9.1383e-01,\n",
      "         -7.1413e-01, -9.0154e-01, -6.2122e-02,  3.9080e-01, -4.0382e-01],\n",
      "        [-6.2053e-01, -9.4084e-01, -4.1877e-01, -8.5165e-01, -5.0002e-02,\n",
      "         -2.2104e-01,  8.2018e-01, -8.3427e-01, -2.1242e-01, -1.1744e+00],\n",
      "        [-8.5572e-01, -9.4084e-01, -1.1939e+00, -1.6330e+00, -6.8347e-01,\n",
      "         -1.7989e+00,  3.0115e+00, -1.6064e+00, -4.2683e-01, -1.4698e-01],\n",
      "        [-5.4213e-01, -9.4084e-01,  6.0717e-01, -1.4132e-01,  1.7352e+00,\n",
      "          1.9485e+00, -3.5372e-01,  1.4822e+00,  6.6544e-01,  2.4254e-02],\n",
      "        [-9.3412e-01, -9.4084e-01,  8.3515e-01, -5.6752e-01, -6.5468e-01,\n",
      "         -6.2209e-01, -7.4502e-01,  5.3701e-02,  6.7821e-01, -4.0382e-01],\n",
      "        [-1.3261e+00,  1.0599e+00,  1.1087e+00, -4.2545e-01, -1.0290e+00,\n",
      "         -1.0100e+00,  5.0714e-01, -8.3427e-01, -9.4505e-01, -1.4698e-01],\n",
      "        [ 3.2026e-01,  1.0599e+00, -9.8874e-01,  1.2793e+00,  2.3794e-01,\n",
      "          9.0610e-03,  1.3680e+00, -8.3427e-01, -6.6831e-01,  7.0918e-01],\n",
      "        [-9.3412e-01, -9.4084e-01, -1.4219e+00, -8.5165e-01, -1.0759e-01,\n",
      "          3.1806e-01, -9.0154e-01,  7.1003e-01,  1.2150e-01, -3.1821e-01],\n",
      "        [ 1.5746e+00, -9.4084e-01,  3.5638e-01,  1.2793e+00,  1.3033e+00,\n",
      "          9.1633e-01,  1.9410e-01, -6.2122e-02,  1.1880e+00, -1.2600e+00],\n",
      "        [-1.1693e+00,  1.0599e+00, -2.8198e-01,  1.1373e+00,  1.1881e+00,\n",
      "          1.5475e+00, -8.2328e-01,  1.4822e+00,  6.1360e-01, -1.4698e-01],\n",
      "        [ 1.1042e+00,  1.0599e+00, -5.5556e-01,  1.1373e+00, -1.3638e-01,\n",
      "         -8.9556e-02, -4.3198e-01, -6.2122e-02,  5.3317e-01, -8.3190e-01],\n",
      "        [-2.3453e+00, -9.4084e-01, -7.6075e-01, -1.4199e+00, -1.3169e+00,\n",
      "         -1.4636e+00,  1.9410e-01, -8.3427e-01, -3.8216e-02, -1.6881e+00],\n",
      "        [-1.4829e+00,  1.0599e+00, -3.0478e-01, -8.5165e-01, -3.0915e-01,\n",
      "          1.1425e-01, -1.2146e+00,  7.1003e-01,  3.7594e-01, -7.4629e-01],\n",
      "        [-1.6397e+00,  1.0599e+00, -4.1877e-01,  1.4281e-01, -3.9553e-01,\n",
      "         -5.0375e-01, -1.3711e+00,  7.1003e-01,  1.3821e+00, -4.0382e-01],\n",
      "        [-7.1736e-02,  1.0599e+00,  6.0717e-01,  1.0662e+00,  8.4262e-01,\n",
      "          1.2056e+00, -8.2328e-01,  1.4822e+00,  5.0554e-01,  5.3795e-01],\n",
      "        [ 1.2610e+00, -9.4084e-01, -4.8717e-01,  1.7766e+00,  9.5779e-01,\n",
      "          6.7965e-01, -9.7980e-01,  1.4822e+00,  1.6289e+00,  2.7640e+00],\n",
      "        [-1.3261e+00,  1.0599e+00, -2.5918e-01, -3.3098e-01, -1.0290e+00,\n",
      "         -4.7745e-01, -1.2146e+00,  3.2395e-01, -2.3281e-01, -7.4629e-01],\n",
      "        [ 1.4178e+00, -9.4084e-01, -1.3307e+00, -8.5165e-01, -5.3950e-01,\n",
      "         -4.9717e-01,  7.4192e-01, -8.3427e-01, -1.1995e+00, -1.2600e+00],\n",
      "        [ 1.6346e-01,  1.0599e+00, -8.7474e-01,  5.6900e-01,  8.1382e-01,\n",
      "          1.5606e+00, -1.5276e+00,  2.2543e+00,  3.0008e-01, -1.0031e+00],\n",
      "        [-6.2053e-01,  1.0599e+00,  1.2455e+00,  9.9519e-01,  1.7928e+00,\n",
      "          1.8302e+00, -4.0682e-02,  7.1003e-01,  7.6512e-01,  9.6602e-01],\n",
      "        [-1.0125e+00, -9.4084e-01,  7.8956e-01,  7.4028e-04,  3.5312e-01,\n",
      "          3.3778e-01, -5.8850e-01,  5.4788e-01,  9.0559e-01, -5.7506e-01],\n",
      "        [ 9.4745e-01,  1.0599e+00,  3.7918e-01,  7.8210e-01,  4.3950e-01,\n",
      "          5.6131e-01,  1.9410e-01, -6.2122e-02, -9.4440e-02,  3.6672e-01],\n",
      "        [ 2.4186e-01, -9.4084e-01, -4.6437e-01, -3.5442e-01,  2.6673e-01,\n",
      "          4.6270e-01, -1.6059e+00,  2.2543e+00,  1.2265e+00, -4.8944e-01],\n",
      "        [-1.8749e+00, -9.4084e-01, -1.2239e-01, -2.1236e-01, -5.0002e-02,\n",
      "          1.8000e-01,  5.0714e-01, -8.3427e-01, -1.3045e+00, -3.1821e-01],\n",
      "        [-1.2477e+00, -9.4084e-01, -2.8198e-01, -7.0958e-01, -9.7142e-01,\n",
      "         -9.8368e-01,  1.1584e-01, -8.3427e-01, -1.9221e-01, -1.8593e+00],\n",
      "        [-1.0909e+00, -9.4084e-01, -1.3991e+00, -2.1302e+00, -5.0002e-02,\n",
      "         -3.0651e-01,  1.3680e+00, -9.9643e-01, -7.2053e-01, -1.1744e+00],\n",
      "        [-6.2053e-01, -9.4084e-01, -1.3079e+00, -6.3855e-01,  9.8659e-01,\n",
      "          4.3640e-01,  2.6202e+00, -8.3427e-01, -1.1002e+00, -2.3259e-01],\n",
      "        [ 6.6629e-03, -9.4084e-01, -1.4219e+00, -1.4132e-01, -1.3638e-01,\n",
      "         -3.9198e-01,  8.9844e-01, -8.3427e-01, -9.4440e-02,  1.0987e-01],\n",
      "        [ 2.4186e-01, -9.4084e-01, -5.7836e-01, -8.5165e-01, -6.2589e-01,\n",
      "         -9.3108e-01,  1.6810e+00, -1.6064e+00, -1.5336e+00,  1.9548e-01],\n",
      "        [-6.2053e-01, -9.4084e-01, -1.3763e+00, -1.0647e+00, -1.8640e+00,\n",
      "         -2.1737e+00,  1.1332e+00, -1.6064e+00, -1.1995e+00, -1.4312e+00],\n",
      "        [-5.4213e-01, -9.4084e-01, -1.5131e+00, -1.3489e+00, -1.2306e+00,\n",
      "         -1.0428e+00,  4.2888e-01, -8.3427e-01, -1.8890e+00, -1.0887e+00],\n",
      "        [-1.4045e+00, -9.4084e-01,  7.2116e-01, -4.9649e-01, -6.2589e-01,\n",
      "         -3.7883e-01, -1.1894e-01, -6.2122e-02, -5.6806e-01, -1.1744e+00]])\n"
     ]
    }
   ],
   "source": [
    "def norm_set(x: torch.Tensor, mu: torch.Tensor, sigma: torch.Tensor) -> torch.Tensor:\n",
    "    # Subtract the mean and divide by the standard deviation\n",
    "    normalized_x = (x - mu) / sigma\n",
    "    return normalized_x\n",
    "\n",
    "# Calculate the mean and standard deviation of x_train\n",
    "mu = x_train.mean(dim=0)\n",
    "sigma = x_train.std(dim=0)\n",
    "\n",
    "# Normalize x_train and x_test using the calculated mean and standard deviation\n",
    "x_train = norm_set(x_train, mu, sigma)\n",
    "x_test = norm_set(x_test, mu, sigma)\n",
    "print(\"x_train_normalized \", x_train)\n",
    "print(\"x_test_normalized \", x_test)"
   ]
  },
  {
   "cell_type": "markdown",
   "metadata": {
    "id": "d_qQkwRGFBF8"
   },
   "source": [
    "## 1.1 Linear Regression\n",
    "\n",
    "We will building the linear regression model in pytorch using a custom layer.\n",
    "\n",
    "Refering back to the lecture notes, we define $ y = f(x) = w^T x$, so we need to learn weight vector $w$.\n",
    "\n",
    "**Q2.** Fill in the forward method of the LinearRegression class. [2 marks]"
   ]
  },
  {
   "cell_type": "code",
   "execution_count": 6,
   "metadata": {
    "id": "mxp1LoliF3Qc"
   },
   "outputs": [],
   "source": [
    "class LinearRegression(nn.Module):\n",
    "    def __init__(self, num_features):\n",
    "        super().__init__()\n",
    "        self.weight = nn.Parameter(torch.zeros(1, num_features), requires_grad=False)\n",
    "\n",
    "    def forward(self, x):\n",
    "        y = torch.mm(x, self.weight.t())  # Perform the linear transformation\n",
    "        return y\n"
   ]
  },
  {
   "cell_type": "markdown",
   "metadata": {
    "id": "Rr7MDAIWboLi"
   },
   "source": [
    "As we need to account for the bias, we add a column of ones to the `x_data`"
   ]
  },
  {
   "cell_type": "code",
   "execution_count": 7,
   "metadata": {
    "id": "rCn-E-CZbxOL"
   },
   "outputs": [],
   "source": [
    "# add a feature for bias\n",
    "x_train = torch.cat([x_train, torch.ones(x_train.shape[0], 1)], dim=1)\n",
    "x_test = torch.cat([x_test, torch.ones(x_test.shape[0], 1)], dim=1)"
   ]
  },
  {
   "cell_type": "code",
   "execution_count": 8,
   "metadata": {
    "id": "Tfeh3o4Gk_xW"
   },
   "outputs": [
    {
     "data": {
      "text/plain": [
       "torch.Size([353, 1])"
      ]
     },
     "execution_count": 8,
     "metadata": {},
     "output_type": "execute_result"
    }
   ],
   "source": [
    "## test the custom layer\n",
    "model = LinearRegression(x_train.shape[1])\n",
    "prediction = model(x_train)\n",
    "prediction.shape # the output should be Nx1"
   ]
  },
  {
   "cell_type": "markdown",
   "metadata": {
    "id": "H-kUQVD9ne_i"
   },
   "source": [
    "The next step is to calculate the cost. For this we will use the mean squared error $E(w) = \\frac{1}{N} Σ_{i=0}^N (f(x_i) - y_i)^2$\n",
    "\n",
    "**Q3.** Fill in the method to calculate the squared error of for any set of labels $y$ and predictions [2 marks]"
   ]
  },
  {
   "cell_type": "code",
   "execution_count": 9,
   "metadata": {
    "id": "25SVCd01l29-"
   },
   "outputs": [],
   "source": [
    "def mean_squared_error(y_pred: torch.Tensor, y_true: torch.Tensor) -> torch.Tensor:\n",
    "    # Calculate the squared error for each pair of predictions and true labels\n",
    "    squared_error = (y_true - y_pred) ** 2\n",
    "\n",
    "    # Calculate the mean of the squared errors\n",
    "    mse = torch.mean(squared_error)\n",
    "\n",
    "    return mse"
   ]
  },
  {
   "cell_type": "code",
   "execution_count": 10,
   "metadata": {
    "id": "yTuAgK6FpLEh"
   },
   "outputs": [
    {
     "name": "stdout",
     "output_type": "stream",
     "text": [
      "tensor(29711.3223)\n"
     ]
    }
   ],
   "source": [
    "cost = mean_squared_error(y_train, prediction)\n",
    "print(cost)"
   ]
  },
  {
   "cell_type": "markdown",
   "metadata": {
    "id": "qVV7MCfxqtyA"
   },
   "source": [
    "We see that using a random set of initial parameters for bias and weight, yields a relatively high error. As such, we will update the values for $w$ using gradient descent. We will implement a custom method for gradient descent.\n",
    "\n",
    "**Q4.** In the method below, add your code to update bias and weight using learning rate $α$. [2 marks]\n",
    "\n",
    "First you need to calculate the partial derivative of the loss function with respect to the weights.\n",
    "\n",
    "We then update the weights vector using the following equation:\n",
    "\n",
    "$ weight = weight - α * ∂_{weight}$"
   ]
  },
  {
   "cell_type": "code",
   "execution_count": 11,
   "metadata": {
    "id": "TJXOTQInsIFz"
   },
   "outputs": [],
   "source": [
    "def gradient_descent_step(model: nn.Module, X: torch.Tensor, y: torch.Tensor, y_pred: torch.Tensor, lr: float) -> None:\n",
    "    weight = model.weight\n",
    "    N = X.shape[0]\n",
    "\n",
    "  ### your code here\n",
    "\n",
    "    # Calculate the partial derivative of the loss function with respect to the weights\n",
    "    #loss_dw = 2/N * torch.mm((y_pred - y).t(), X)\n",
    "    dw = 2/N * torch.mm((y_pred - y).t(), X)\n",
    "    #loss_dw = (torch.sum(2*(y_pred-y)*X)) / N\n",
    "    # Update the weights using the learning rate (lr)\n",
    "    nweight = weight - lr * dw\n",
    "\n",
    "    # Assign the updated weights to the model\n",
    "    model.weight = nn.Parameter(nweight, requires_grad=False)"
   ]
  },
  {
   "cell_type": "code",
   "execution_count": 13,
   "metadata": {
    "id": "4lQDX_zeG6W1"
   },
   "outputs": [
    {
     "data": {
      "image/png": "[encoded data removed]",
      "text/plain": [
       "<Figure size 432x288 with 2 Axes>"
      ]
     },
     "metadata": {
      "needs_background": "light"
     },
     "output_type": "display_data"
    },
    {
     "name": "stdout",
     "output_type": "stream",
     "text": [
      "Parameter containing:\n",
      "tensor([[  1.9400, -11.4488,  26.3047,  16.6306,  -9.8810,  -2.3179,  -7.6995,\n",
      "           8.2121,  21.9769,   2.6065, 153.7365]])\n",
      "Minimum cost: 2890.406494140625\n"
     ]
    }
   ],
   "source": [
    "cost_lst = list()\n",
    "model = LinearRegression(x_train.shape[1])\n",
    "alpha = .1\n",
    "for it in range(100):\n",
    "  prediction = model(x_train)\n",
    "  cost = mean_squared_error(y_train, prediction)\n",
    "  cost_lst.append(cost)\n",
    "  gradient_descent_step(model, x_train, y_train, prediction, alpha)\n",
    "fig, axs = plt.subplots(2)\n",
    "axs[0].plot(list(range(it+1)), cost_lst)\n",
    "axs[1].scatter(prediction, y_train)\n",
    "plt.show()\n",
    "print(model.weight)\n",
    "print('Minimum cost: {}'.format(min(cost_lst)))"
   ]
  },
  {
   "cell_type": "markdown",
   "metadata": {
    "id": "Mwypj_XWLKKq"
   },
   "source": [
    "<font color=\"maroon\">**Q5.** What conclusion if any can be drawn from the weight values? How does gender and BMI affect blood sugar levels?\n",
    "\n",
    "What are the estimated blood sugar levels for the below examples? [2 marks] </font>\n",
    "\n",
    "| AGE | SEX | BMI | BP  | S1  | S2    | S3 | S4  | S5     | S6  |\n",
    "|-----|-----|-----|-----|-----|-------|----|-----|--------|-----|\n",
    "| 25  | F   | 18  | 79  | 130 | 64.8  | 61 | 2   | 4.1897 | 68  |\n",
    "| 50  | M   | 28  | 103 | 229 | 162.2 | 60 | 4.5 | 6.107  | 124 |"
   ]
  },
  {
   "cell_type": "code",
   "execution_count": 16,
   "metadata": {
    "id": "StYxCUdPWSEp"
   },
   "outputs": [
    {
     "name": "stdout",
     "output_type": "stream",
     "text": [
      "tensor([[-1.8749,  1.0599, -1.9463, -1.1358, -1.6913, -1.6477,  0.8984, -1.6064,\n",
      "         -0.8863, -2.0305,  1.0000],\n",
      "        [ 0.0851, -0.9408,  0.3336,  0.5690,  1.1594,  1.5541,  0.8202,  0.3240,\n",
      "          2.7678,  2.7640,  1.0000]])\n",
      "Estimated Blood Sugar Levels:\n",
      "tensor([[ 43.5294],\n",
      "        [232.2309]])\n"
     ]
    }
   ],
   "source": [
    "x_data = torch.tensor([[25,2,18,79,130,64.8,61,2,4.1897,68],\n",
    "                       [50,1,28,103,229,162.2,60,4.5,6.107,124]])\n",
    "x_train = torch.from_numpy(X_train.values).float()\n",
    "x_data = norm_set(x_data, x_train.mean(dim=0), x_train.std(dim=0))\n",
    "x_data = torch.cat([x_data, torch.ones(x_data.shape[0], 1)], dim=1)\n",
    "print(x_data)\n",
    "predictions = model(x_data)\n",
    "print(\"Estimated Blood Sugar Levels:\")\n",
    "print(predictions)"
   ]
  },
  {
   "cell_type": "markdown",
   "metadata": {
    "id": "9IlXN47P-cCY"
   },
   "source": [
    "Now estimate the error on the test set. Is the error on the test set comparable to that of the train set? What can be said about the fit of the model? When does a model over/under fits?\n"
   ]
  },
  {
   "cell_type": "code",
   "execution_count": 17,
   "metadata": {
    "id": "_yuYH06A-xoj"
   },
   "outputs": [
    {
     "name": "stdout",
     "output_type": "stream",
     "text": [
      "torch.Size([89, 11])\n",
      "tensor([[140.4245],\n",
      "        [181.4898],\n",
      "        [139.8155],\n",
      "        [294.5001],\n",
      "        [121.2379],\n",
      "        [ 93.2380],\n",
      "        [257.5013],\n",
      "        [187.0782],\n",
      "        [ 83.8459],\n",
      "        [110.7299],\n",
      "        [ 94.9207],\n",
      "        [163.1316],\n",
      "        [ 63.3041],\n",
      "        [205.4024],\n",
      "        [ 98.5740],\n",
      "        [132.1970],\n",
      "        [221.8209],\n",
      "        [247.0658],\n",
      "        [196.4028],\n",
      "        [214.9439],\n",
      "        [207.7282],\n",
      "        [ 88.6480],\n",
      "        [ 71.8911],\n",
      "        [188.4459],\n",
      "        [156.4870],\n",
      "        [161.9902],\n",
      "        [189.9080],\n",
      "        [177.1421],\n",
      "        [ 49.6463],\n",
      "        [110.2108],\n",
      "        [180.3432],\n",
      "        [ 91.1430],\n",
      "        [131.4132],\n",
      "        [180.8138],\n",
      "        [173.1790],\n",
      "        [191.3985],\n",
      "        [122.2304],\n",
      "        [117.6442],\n",
      "        [145.2101],\n",
      "        [ 60.7520],\n",
      "        [ 74.1983],\n",
      "        [107.6559],\n",
      "        [162.2159],\n",
      "        [149.2772],\n",
      "        [175.3481],\n",
      "        [ 65.3042],\n",
      "        [ 78.1086],\n",
      "        [107.3464],\n",
      "        [ 58.0324],\n",
      "        [161.8486],\n",
      "        [157.2088],\n",
      "        [ 65.3370],\n",
      "        [113.2995],\n",
      "        [108.0264],\n",
      "        [170.1246],\n",
      "        [160.2137],\n",
      "        [ 94.1893],\n",
      "        [208.2517],\n",
      "        [118.2362],\n",
      "        [ 69.0649],\n",
      "        [184.9977],\n",
      "        [203.1667],\n",
      "        [141.7197],\n",
      "        [104.8961],\n",
      "        [126.0682],\n",
      "        [204.0320],\n",
      "        [167.1153],\n",
      "        [161.9643],\n",
      "        [119.1528],\n",
      "        [140.8341],\n",
      "        [180.5650],\n",
      "        [195.0691],\n",
      "        [235.3630],\n",
      "        [142.9323],\n",
      "        [ 82.3658],\n",
      "        [150.9685],\n",
      "        [193.2323],\n",
      "        [206.4865],\n",
      "        [157.6534],\n",
      "        [199.7170],\n",
      "        [113.9424],\n",
      "        [137.9344],\n",
      "        [ 53.7541],\n",
      "        [ 55.7101],\n",
      "        [111.4660],\n",
      "        [ 84.6135],\n",
      "        [ 80.8416],\n",
      "        [ 61.2920],\n",
      "        [164.4194]])\n",
      "tensor(2885.6189)\n"
     ]
    }
   ],
   "source": [
    "print(x_test.shape)\n",
    "predictions = model(x_test)\n",
    "print(predictions)\n",
    "cost = mean_squared_error(y_test, predictions)\n",
    "print(cost)"
   ]
  },
  {
   "cell_type": "markdown",
   "metadata": {
    "id": "qnz2O9Pagpf7"
   },
   "source": [
    "<font color=\"maroon\">**Q6.** Try the code with a number of learning rates that differ by orders of magnitude and record the error of the training and test sets. What do you observe on the training error? What about the error on the test set? [3 marks]</font>"
   ]
  },
  {
   "cell_type": "code",
   "execution_count": 22,
   "metadata": {
    "id": "Sp9nNM0R-7CH"
   },
   "outputs": [
    {
     "name": "stdout",
     "output_type": "stream",
     "text": [
      "Learning rate of  0.001\n",
      "Minimum cost: 29711.322265625\n",
      "Learning rate of  0.5\n",
      "Minimum cost: 29711.322265625\n",
      "Learning rate of  0.011\n",
      "Minimum cost: 29711.322265625\n",
      "Learning rate of  0.01\n",
      "Minimum cost: 29711.322265625\n",
      "Learning rate of  0.02\n",
      "Minimum cost: 29711.322265625\n",
      "Learning rate of  2\n",
      "Minimum cost: 29711.322265625\n"
     ]
    }
   ],
   "source": [
    "#train data\n",
    "\n",
    "lr = [0.001, 0.5, 0.011, 0.01, 0.02, 2]\n",
    "for i in lr:\n",
    "  cost_lst = list()\n",
    "  model = LinearRegression(x_train.shape[1])\n",
    "  for it in range(100):\n",
    "    prediction = model(x_train)\n",
    "    cost = mean_squared_error(y_train, prediction)\n",
    "    cost_lst.append(cost)\n",
    "    gradient_descent_step(model, x_train, y_train, prediction, i)\n",
    "  #fig, axs = plt.subplots(2)\n",
    "  #axs[0].plot(list(range(it+1)), cost_lst)\n",
    "  #axs[1].scatter(prediction, y_train)\n",
    "  #plt.show()\n",
    "  #print(model.weight)\n",
    "  print(\"Learning rate of \", i)\n",
    "  print('Minimum cost: {}'.format(min(cost_lst)))"
   ]
  },
  {
   "cell_type": "code",
   "execution_count": 23,
   "metadata": {},
   "outputs": [
    {
     "name": "stdout",
     "output_type": "stream",
     "text": [
      "Learning rate of  0.001\n",
      "Minimum cost: 18640.267578125\n",
      "Learning rate of  0.5\n",
      "Minimum cost: 8886.4580078125\n",
      "Learning rate of  0.011\n",
      "Minimum cost: 3215.490234375\n",
      "Learning rate of  0.01\n",
      "Minimum cost: 3423.17138671875\n",
      "Learning rate of  0.02\n",
      "Minimum cost: 2639.26025390625\n",
      "Learning rate of  2\n",
      "Minimum cost: 26548.583984375\n"
     ]
    }
   ],
   "source": [
    "#test data\n",
    "\n",
    "lr = [0.001, 0.5, 0.011, 0.01, 0.02, 2]\n",
    "for i in lr:\n",
    "  cost_lst = list()\n",
    "  model = LinearRegression(x_test.shape[1])\n",
    "  for it in range(100):\n",
    "    prediction = model(x_test)\n",
    "    cost = mean_squared_error(y_test, prediction)\n",
    "    cost_lst.append(cost)\n",
    "    gradient_descent_step(model, x_test, y_test, prediction, i)\n",
    "  #fig, axs = plt.subplots(2)\n",
    "  #axs[0].plot(list(range(it+1)), cost_lst)\n",
    "  #axs[1].scatter(prediction, y_train)\n",
    "  #plt.show()\n",
    "  #print(model.weight)\n",
    "  print(\"Learning rate of \", i)\n",
    "  print('Minimum cost: {}'.format(min(cost_lst)))"
   ]
  },
  {
   "cell_type": "markdown",
   "metadata": {
    "id": "eI9cKY_TWiUM"
   },
   "source": [
    "# 1.2 Regularized Linear Regression\n",
    "In this exercise, we will be trying to create a model that fits data that is clearly not linear. We will be attempting to fit the data points seen in the graph below:"
   ]
  },
  {
   "cell_type": "code",
   "execution_count": 24,
   "metadata": {
    "id": "hupAUhrofKfy"
   },
   "outputs": [
    {
     "data": {
      "image/png": "[encoded data removed]",
      "text/plain": [
       "<Figure size 432x288 with 1 Axes>"
      ]
     },
     "metadata": {
      "needs_background": "light"
     },
     "output_type": "display_data"
    }
   ],
   "source": [
    "x = torch.tensor([-0.99768, -0.69574, -0.40373, -0.10236, 0.22024, 0.47742, 0.82229])\n",
    "y = torch.tensor([2.0885, 1.1646, 0.3287, 0.46013, 0.44808, 0.10013, -0.32952]).reshape(-1, 1)\n",
    "plt.scatter(x, y)\n",
    "plt.show()"
   ]
  },
  {
   "cell_type": "markdown",
   "metadata": {
    "id": "k6epuBvnf7P9"
   },
   "source": [
    "In order to fit this data we will create a new hypothesis function, which uses a fifth-order polynomial:\n",
    "\n",
    "$\n",
    " h_{\\theta}(x) = \\theta_{0} x_{0} + \\theta_{1} x_{1} + \\theta_{2} x_{1} ^2 + \\theta_{3} x_{1} ^3 + \\theta_{4} x_{1} ^4 + \\theta_{5} x_{1} ^5\n",
    "$\n",
    "\n",
    "As we are fitting a small number of points with a high order model, there is a danger of overfitting.  \\\\\n",
    "\n",
    "To attempt to avoid this we will use regularization. Our cost function becomes:\n",
    "\n",
    "$\n",
    " J(\\theta) = \\frac{1}{2m}  \\left[ \\sum_{i=1}^m ( h_{\\theta}(x^{(i)}) - y^{(i)})^2 + \\lambda    \\sum_{j=1}^n \\theta_{j}^2 \\right]\n",
    "$\n",
    "\n",
    "Adjust variable `x` to include the higher order polynomials"
   ]
  },
  {
   "cell_type": "code",
   "execution_count": 25,
   "metadata": {
    "id": "4nOF1xJKY_Jx"
   },
   "outputs": [
    {
     "name": "stdout",
     "output_type": "stream",
     "text": [
      "tensor([[-1.3843,  1.7136, -1.8759,  1.0000],\n",
      "        [-0.9202,  0.3076, -0.4927,  1.0000],\n",
      "        [-0.4713, -0.5753,  0.0785,  1.0000],\n",
      "        [-0.0081, -0.9947,  0.2149,  1.0000],\n",
      "        [ 0.4877, -0.8902,  0.2397,  1.0000],\n",
      "        [ 0.8831, -0.3968,  0.4465,  1.0000],\n",
      "        [ 1.4132,  0.8358,  1.3890,  1.0000]])\n",
      "torch.Size([7, 4])\n"
     ]
    }
   ],
   "source": [
    "x3 = torch.zeros(3, x.shape[0])\n",
    "x3[:] = x[:]\n",
    "\n",
    "for i in range(x3.shape[0]):\n",
    "  x3[:][i] = x3[:][i] ** (i+1)\n",
    "\n",
    "x3 = x3.t()\n",
    "sx3 = torch.std(x3, dim=0)\n",
    "mx3 = torch.mean(x3, dim=0)\n",
    "\n",
    "\n",
    "x3 = norm_set(x3, mx3, sx3)\n",
    "x3 = torch.cat([x3, torch.ones(x3.shape[0], 1)], dim = 1)\n",
    "print(x3)\n",
    "print(x3.shape)"
   ]
  },
  {
   "cell_type": "markdown",
   "metadata": {
    "id": "cg9OdKcyhEN0"
   },
   "source": [
    "**Q7.** Update the cost and gradient descent methods to use the regularised cost, as shown above. [4 marks]\n",
    "\n",
    "Note that the punishment for having more terms is not applied to the bias. This means that we use a different update technique for the partial derivative of $\\theta_{0}$, and add the regularization to all of the others:\n",
    "\n",
    "\n",
    "\n",
    "$\n",
    " \\theta_{j} =  \\theta_{j} - \\alpha \\frac{1}{m} \\sum_{i=1}^m ( h_{\\theta}(x^{(i)}) - y^{(i)})x^{(i)}_{j} , j=0\n",
    "$\n",
    "\n",
    "\n",
    "\n",
    "$\n",
    " \\theta_{j} =  \\theta_{j} (1 - \\alpha \\frac{\\lambda}{m}) -\n",
    " \\alpha \\frac{1}{m} \\sum_{i=1}^m ( h_{\\theta}(x^{(i)}) - y^{(i)})x^{(i)}_{j} , j>0\n",
    "$"
   ]
  },
  {
   "cell_type": "code",
   "execution_count": 26,
   "metadata": {
    "id": "c-h9vdC5hSPO"
   },
   "outputs": [],
   "source": [
    "def mean_squared_error(y_true: torch.Tensor, y_pred: torch.Tensor, lam: float, theta: torch.tensor) -> torch.Tensor:\n",
    "  cf = ((y_pred - y_true)**2).mean()\n",
    "  xyz = lam*(theta[1:]**2).sum()\n",
    "  return cf + xyz\n",
    "\n",
    "def gradient_descent_step(model: nn.Module, X: torch.Tensor, y: torch.Tensor, y_pred: torch.Tensor, lr: float, lam: float) -> None:\n",
    "  weight = model.weight\n",
    "  N = X.shape[0]\n",
    "  dw = -2/N * torch.matmul((y-y_pred).T, X)\n",
    "  xyz = dw + lam*torch.cat((torch.zeros(1,1), weight[:,1:].clone()), dim=1)\n",
    "  nweight = weight - lr*xyz\n",
    "  model.weight = nn.Parameter(nweight, requires_grad=False)"
   ]
  },
  {
   "cell_type": "markdown",
   "metadata": {
    "id": "-ZfVxPRYkns1"
   },
   "source": [
    "<font color=\"maroon\"> **Q8.** First of all, find the best value of alpha to use in order to optimize best.\n",
    "Next, experiment with different values of $\\lambda$ and see how this affects the shape of the hypothesis. [3 marks]</font>"
   ]
  },
  {
   "cell_type": "code",
   "execution_count": 30,
   "metadata": {
    "id": "9hFP4DHzZDkB"
   },
   "outputs": [
    {
     "data": {
      "image/png": "[encoded data removed]",
      "text/plain": [
       "<Figure size 432x288 with 1 Axes>"
      ]
     },
     "metadata": {
      "needs_background": "light"
     },
     "output_type": "display_data"
    },
    {
     "name": "stdout",
     "output_type": "stream",
     "text": [
      "Parameter containing:\n",
      "tensor([[-0.3765,  0.1221, -0.2530,  0.3865]])\n",
      "Minimum cost: 0.08896179497241974\n"
     ]
    }
   ],
   "source": [
    "cost_lst = list()\n",
    "model = LinearRegression(x3.shape[1])\n",
    "alpha = 0.01 # select an appropriate alpha\n",
    "lam = 1 # select an appropriate lambda\n",
    "for it in range(100):\n",
    "  prediction = model(x3)\n",
    "  cost = mean_squared_error(y, prediction, lam, model.weight)\n",
    "  cost_lst.append(cost)\n",
    "  gradient_descent_step(model, x3, y, prediction, alpha, lam)\n",
    "display.clear_output(wait=True)\n",
    "plt.plot(list(range(it+1)), cost_lst)\n",
    "plt.show()\n",
    "print(model.weight)\n",
    "print('Minimum cost: {}'.format(min(cost_lst)))\n"
   ]
  },
  {
   "cell_type": "code",
   "execution_count": 31,
   "metadata": {
    "id": "xys3bBGpk8wp"
   },
   "outputs": [
    {
     "data": {
      "image/png": "[encoded data removed]",
      "text/plain": [
       "<Figure size 432x288 with 1 Axes>"
      ]
     },
     "metadata": {
      "needs_background": "light"
     },
     "output_type": "display_data"
    }
   ],
   "source": [
    "plt.scatter(x3[:, 0], y, c='red', marker='x', label='groundtruth')\n",
    "outputs = model(x3)\n",
    "plt.plot(x3[:, 0], outputs, c='blue', marker='o', label='prediction')\n",
    "plt.xlabel('x1')\n",
    "plt.ylabel('y=f(x1)')\n",
    "plt.legend()\n",
    "plt.show()"
   ]
  },
  {
   "cell_type": "code",
   "execution_count": null,
   "metadata": {},
   "outputs": [],
   "source": []
  }
 ],
 "metadata": {
  "colab": {
   "provenance": [],
   "toc_visible": true
  },
  "kernelspec": {
   "display_name": "Python 3 (ipykernel)",
   "language": "python",
   "name": "python3"
  },
  "language_info": {
   "codemirror_mode": {
    "name": "ipython",
    "version": 3
   },
   "file_extension": ".py",
   "mimetype": "text/x-python",
   "name": "python",
   "nbconvert_exporter": "python",
   "pygments_lexer": "ipython3",
   "version": "3.9.12"
  }
 },
 "nbformat": 4,
 "nbformat_minor": 1
}
